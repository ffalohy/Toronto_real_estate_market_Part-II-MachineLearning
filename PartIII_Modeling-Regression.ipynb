{
 "cells": [
  {
   "cell_type": "markdown",
   "metadata": {},
   "source": [
    "# Part IV: Modeling"
   ]
  },
  {
   "cell_type": "code",
   "execution_count": 1,
   "metadata": {},
   "outputs": [],
   "source": [
    "import pickle\n",
    "import pandas as pd\n",
    "import numpy as np\n",
    "import matplotlib.pyplot as plt\n",
    "%matplotlib inline"
   ]
  },
  {
   "cell_type": "markdown",
   "metadata": {},
   "source": [
    "## Unpickling train/test files"
   ]
  },
  {
   "cell_type": "code",
   "execution_count": 2,
   "metadata": {},
   "outputs": [],
   "source": [
    "# Unpickle finalized df_ohe\n",
    "infile = open('df_ohe_final_2', 'rb')\n",
    "\n",
    "df = pickle.load(infile)\n",
    "infile.close()"
   ]
  },
  {
   "cell_type": "code",
   "execution_count": 3,
   "metadata": {},
   "outputs": [
    {
     "data": {
      "text/plain": [
       "(957, 29)"
      ]
     },
     "execution_count": 3,
     "metadata": {},
     "output_type": "execute_result"
    }
   ],
   "source": [
    "df.shape"
   ]
  },
  {
   "cell_type": "markdown",
   "metadata": {},
   "source": [
    "## 2.1 Data split"
   ]
  },
  {
   "cell_type": "code",
   "execution_count": 4,
   "metadata": {},
   "outputs": [
    {
     "name": "stdout",
     "output_type": "stream",
     "text": [
      "<class 'pandas.core.frame.DataFrame'>\n",
      "RangeIndex: 957 entries, 0 to 956\n",
      "Data columns (total 29 columns):\n",
      " #   Column              Non-Null Count  Dtype  \n",
      "---  ------              --------------  -----  \n",
      " 0   House_type          957 non-null    object \n",
      " 1   Listing_price       957 non-null    int64  \n",
      " 2   Sold_price          957 non-null    float64\n",
      " 3   Bedroom             957 non-null    float64\n",
      " 4   Washroom            957 non-null    int64  \n",
      " 5   Parking             957 non-null    int64  \n",
      " 6   Tax                 957 non-null    float64\n",
      " 7   Maintenance         957 non-null    float64\n",
      " 8   Size                957 non-null    float64\n",
      " 9   Days_on_market      957 non-null    int64  \n",
      " 10  Exposure            957 non-null    object \n",
      " 11  heat                957 non-null    int64  \n",
      " 12  water               957 non-null    int64  \n",
      " 13  hydro               957 non-null    int64  \n",
      " 14  x0_Condo Apt        957 non-null    float64\n",
      " 15  x0_Condo Townhouse  957 non-null    float64\n",
      " 16  x0_Detached         957 non-null    float64\n",
      " 17  x0_Semi-Detached    957 non-null    float64\n",
      " 18  x1_E                957 non-null    float64\n",
      " 19  x1_N                957 non-null    float64\n",
      " 20  x1_NE               957 non-null    float64\n",
      " 21  x1_NW               957 non-null    float64\n",
      " 22  x1_S                957 non-null    float64\n",
      " 23  x1_SE               957 non-null    float64\n",
      " 24  x1_SW               957 non-null    float64\n",
      " 25  x1_W                957 non-null    float64\n",
      " 26  x2_1_heat           957 non-null    float64\n",
      " 27  x3_1_hydro          957 non-null    float64\n",
      " 28  x4_1_water          957 non-null    float64\n",
      "dtypes: float64(20), int64(7), object(2)\n",
      "memory usage: 216.9+ KB\n"
     ]
    }
   ],
   "source": [
    "df.info()"
   ]
  },
  {
   "cell_type": "code",
   "execution_count": 5,
   "metadata": {},
   "outputs": [
    {
     "name": "stdout",
     "output_type": "stream",
     "text": [
      "count       957.00\n",
      "mean     645318.18\n",
      "std       68262.08\n",
      "min      529400.00\n",
      "25%      598000.00\n",
      "50%      639000.00\n",
      "75%      678000.00\n",
      "max     1100000.00\n",
      "Name: Sold_price, dtype: float64\n"
     ]
    },
    {
     "data": {
      "image/png": "[encoded data removed]",
      "text/plain": [
       "<Figure size 432x288 with 1 Axes>"
      ]
     },
     "metadata": {
      "needs_background": "light"
     },
     "output_type": "display_data"
    }
   ],
   "source": [
    "plt.hist(df['Sold_price'], bins = 50)\n",
    "plt.xlabel('Price')\n",
    "plt.ylabel('Count')\n",
    "pd.set_option('float_format', '{:.2f}'.format)\n",
    "print(df['Sold_price'].describe())"
   ]
  },
  {
   "cell_type": "code",
   "execution_count": 6,
   "metadata": {},
   "outputs": [],
   "source": [
    "X = df.drop(columns = ['House_type', 'Exposure', 'heat', 'hydro', 'water', 'Sold_price'])\n",
    "y = df['Sold_price']"
   ]
  },
  {
   "cell_type": "code",
   "execution_count": 7,
   "metadata": {},
   "outputs": [
    {
     "name": "stdout",
     "output_type": "stream",
     "text": [
      "<class 'pandas.core.frame.DataFrame'>\n",
      "RangeIndex: 957 entries, 0 to 956\n",
      "Data columns (total 23 columns):\n",
      " #   Column              Non-Null Count  Dtype  \n",
      "---  ------              --------------  -----  \n",
      " 0   Listing_price       957 non-null    int64  \n",
      " 1   Bedroom             957 non-null    float64\n",
      " 2   Washroom            957 non-null    int64  \n",
      " 3   Parking             957 non-null    int64  \n",
      " 4   Tax                 957 non-null    float64\n",
      " 5   Maintenance         957 non-null    float64\n",
      " 6   Size                957 non-null    float64\n",
      " 7   Days_on_market      957 non-null    int64  \n",
      " 8   x0_Condo Apt        957 non-null    float64\n",
      " 9   x0_Condo Townhouse  957 non-null    float64\n",
      " 10  x0_Detached         957 non-null    float64\n",
      " 11  x0_Semi-Detached    957 non-null    float64\n",
      " 12  x1_E                957 non-null    float64\n",
      " 13  x1_N                957 non-null    float64\n",
      " 14  x1_NE               957 non-null    float64\n",
      " 15  x1_NW               957 non-null    float64\n",
      " 16  x1_S                957 non-null    float64\n",
      " 17  x1_SE               957 non-null    float64\n",
      " 18  x1_SW               957 non-null    float64\n",
      " 19  x1_W                957 non-null    float64\n",
      " 20  x2_1_heat           957 non-null    float64\n",
      " 21  x3_1_hydro          957 non-null    float64\n",
      " 22  x4_1_water          957 non-null    float64\n",
      "dtypes: float64(19), int64(4)\n",
      "memory usage: 172.1 KB\n"
     ]
    }
   ],
   "source": [
    "X.info()"
   ]
  },
  {
   "cell_type": "code",
   "execution_count": 8,
   "metadata": {},
   "outputs": [],
   "source": [
    "from sklearn.model_selection import train_test_split\n",
    "X_train, X_test, y_train, y_test = train_test_split(X, y, test_size = 0.3, random_state=2021)"
   ]
  },
  {
   "cell_type": "code",
   "execution_count": 9,
   "metadata": {},
   "outputs": [
    {
     "name": "stdout",
     "output_type": "stream",
     "text": [
      "(669, 23)\n",
      "(288, 23)\n",
      "(669,)\n",
      "(288,)\n"
     ]
    }
   ],
   "source": [
    "print(X_train.shape)\n",
    "print(X_test.shape)\n",
    "print(y_train.shape)\n",
    "print(y_test.shape)"
   ]
  },
  {
   "cell_type": "code",
   "execution_count": 10,
   "metadata": {},
   "outputs": [],
   "source": [
    "X_train.reset_index(inplace=True, drop = True)\n",
    "X_test.reset_index(inplace=True, drop = True)\n",
    "y_train.reset_index(inplace=True, drop = True)\n",
    "y_test.reset_index(inplace=True, drop = True)"
   ]
  },
  {
   "cell_type": "markdown",
   "metadata": {},
   "source": [
    "## 2.3 Pipeline--Modeling"
   ]
  },
  {
   "cell_type": "markdown",
   "metadata": {},
   "source": [
    "1. Linear Regression\n",
    "2. Ridge\n",
    "3. Lasso\n",
    "4. Random Forest\n",
    "5. Decision Tree\n",
    "6. XGBoost"
   ]
  },
  {
   "cell_type": "code",
   "execution_count": 11,
   "metadata": {},
   "outputs": [],
   "source": [
    "from sklearn.pipeline import Pipeline\n",
    "from sklearn.preprocessing import StandardScaler\n",
    "from sklearn.decomposition import PCA\n",
    "from sklearn.linear_model import LinearRegression\n",
    "from sklearn.linear_model import Ridge\n",
    "from sklearn.linear_model import Lasso\n",
    "from sklearn.metrics import r2_score, mean_squared_error"
   ]
  },
  {
   "cell_type": "code",
   "execution_count": 12,
   "metadata": {},
   "outputs": [],
   "source": [
    "scaler = StandardScaler()\n",
    "X_train_ss = scaler.fit_transform(X_train)\n",
    "X_test_ss = scaler.transform(X_test)"
   ]
  },
  {
   "cell_type": "code",
   "execution_count": 13,
   "metadata": {},
   "outputs": [
    {
     "name": "stdout",
     "output_type": "stream",
     "text": [
      "(669, 23)\n",
      "(288, 23)\n",
      "(669,)\n",
      "(288,)\n"
     ]
    }
   ],
   "source": [
    "print(X_train_ss.shape)\n",
    "print(X_test_ss.shape)\n",
    "print(y_train.shape)\n",
    "print(y_test.shape)"
   ]
  },
  {
   "cell_type": "raw",
   "metadata": {},
   "source": [
    "# Adjusted R squared #1\n",
    "def adj_r2(X_test, y_test, y_pred):\n",
    "    sse = np.sum((y_test-y_pred)**2)\n",
    "    sst = np.sum((y_test-np.mean(y_train))**2)\n",
    "    nrows = X_test.shape[0]\n",
    "    ncols = X_test.shape[1]\n",
    "    \n",
    "    adj_r2 = 1-((sse/(nrows-ncols-1))/(sst/(nrows-1)))\n",
    "    \n",
    "    return adj_r2"
   ]
  },
  {
   "cell_type": "code",
   "execution_count": 14,
   "metadata": {},
   "outputs": [],
   "source": [
    "# Adjusted R squared #2\n",
    "def adj_r2(X_test_ss, r2_score):\n",
    "    nrows = X_test_ss.shape[0]\n",
    "    ncols = X_test_ss.shape[1]\n",
    "    adj_r2 = 1-(((1-r2_score)*(nrows-1))/(nrows-ncols-1))\n",
    "    \n",
    "    return adj_r2"
   ]
  },
  {
   "cell_type": "code",
   "execution_count": 15,
   "metadata": {},
   "outputs": [],
   "source": [
    "def visualize2D(mse_, r2score_, adj_r2score_, model):\n",
    "    print(model, \"-\"*10)\n",
    "    fig, (ax1, ax2 , ax3) = plt.subplots(nrows = 1, ncols = 3, figsize=(16,4))\n",
    "    ax1.plot(mse_)\n",
    "    ax1.set_title(f'Index of the min MSE Score: {mse_.index(min(mse_))}')\n",
    "    \n",
    "    ax2.plot(r2score_)\n",
    "    ax2.set_title(f\"Index of the max R2 Score: {r2score_.index(max(r2score_))}\")    \n",
    "    \n",
    "    ax3.plot(adj_r2score_)\n",
    "    ax3.set_title(f\"Index of the max Adj R2 Score: {adj_r2score_.index(max(adj_r2score_))}\")  "
   ]
  },
  {
   "cell_type": "code",
   "execution_count": 16,
   "metadata": {},
   "outputs": [
    {
     "name": "stdout",
     "output_type": "stream",
     "text": [
      "RMSE: $46818.70\n",
      "R2 Score: 0.660\n",
      "R2 Score Adj: 0.630\n",
      "----------\n"
     ]
    }
   ],
   "source": [
    "# LR\n",
    "steps = [('LinearRegression', LinearRegression(normalize=True))]\n",
    "\n",
    "pipe = Pipeline(steps)\n",
    "pipe.fit(X_train_ss, y_train)\n",
    "y_pred = pipe.predict(X_test_ss)\n",
    "mse = mean_squared_error(y_test, y_pred)\n",
    "r2score = r2_score(y_test, y_pred)\n",
    "adj_r2score = adj_r2(X_test_ss, r2score)\n",
    "\n",
    "print('RMSE: $%.2f'%(np.sqrt(mse)))\n",
    "print('R2 Score: %.3f'%(r2score))\n",
    "print('R2 Score Adj: %.3f' %(adj_r2score))\n",
    "print('-'*10)  "
   ]
  },
  {
   "cell_type": "code",
   "execution_count": 17,
   "metadata": {},
   "outputs": [
    {
     "name": "stdout",
     "output_type": "stream",
     "text": [
      "Linear Regression\n",
      "----------\n",
      "RMSE: $46818.70\n",
      "R2 Score: 0.660\n",
      "R2 Score Adj: 0.630\n"
     ]
    },
    {
     "data": {
      "image/png": "[encoded data removed]",
      "text/plain": [
       "<Figure size 432x288 with 1 Axes>"
      ]
     },
     "metadata": {
      "needs_background": "light"
     },
     "output_type": "display_data"
    }
   ],
   "source": [
    "plt.scatter(y_test, y_pred)\n",
    "plt.plot(y_pred, y_pred, c = 'r')\n",
    "plt.xlabel('y_test')\n",
    "plt.ylabel('y_pred')\n",
    "\n",
    "print('Linear Regression')\n",
    "print('-'*10)  \n",
    "print('RMSE: $%.2f'%(np.sqrt(mse)))\n",
    "print('R2 Score: %.3f'%(r2score))\n",
    "print('R2 Score Adj: %.3f' %(adj_r2score))"
   ]
  },
  {
   "cell_type": "markdown",
   "metadata": {},
   "source": [
    "### Ridge"
   ]
  },
  {
   "cell_type": "code",
   "execution_count": 18,
   "metadata": {},
   "outputs": [
    {
     "name": "stdout",
     "output_type": "stream",
     "text": [
      "Ridge(alpha = 1e-08)\n",
      "MSE:2191990352.71\n",
      "RMSE:46818.7\n",
      "R2 Score: 0.66\n",
      "R2 Score Adj: 0.63\n",
      "----------\n",
      "Ridge(alpha = 0.0001)\n",
      "MSE:2191990387.64\n",
      "RMSE:46818.7\n",
      "R2 Score: 0.66\n",
      "R2 Score Adj: 0.63\n",
      "----------\n",
      "Ridge(alpha = 0.001)\n",
      "MSE:2191990702.07\n",
      "RMSE:46818.7\n",
      "R2 Score: 0.66\n",
      "R2 Score Adj: 0.63\n",
      "----------\n",
      "Ridge(alpha = 0.01)\n",
      "MSE:2191993846.92\n",
      "RMSE:46818.73\n",
      "R2 Score: 0.66\n",
      "R2 Score Adj: 0.63\n",
      "----------\n",
      "Ridge(alpha = 1)\n",
      "MSE:2192346013.91\n",
      "RMSE:46822.49\n",
      "R2 Score: 0.66\n",
      "R2 Score Adj: 0.63\n",
      "----------\n",
      "Ridge(alpha = 5)\n",
      "MSE:2193891514.64\n",
      "RMSE:46839.0\n",
      "R2 Score: 0.659\n",
      "R2 Score Adj: 0.63\n",
      "----------\n",
      "Ridge(alpha = 10)\n",
      "MSE:2196086000.29\n",
      "RMSE:46862.42\n",
      "R2 Score: 0.659\n",
      "R2 Score Adj: 0.629\n",
      "----------\n",
      "Ridge(alpha = 20)\n",
      "MSE:2201270196.24\n",
      "RMSE:46917.7\n",
      "R2 Score: 0.658\n",
      "R2 Score Adj: 0.629\n",
      "----------\n",
      "Ridge(alpha = 100)\n",
      "MSE:2267710321.67\n",
      "RMSE:47620.48\n",
      "R2 Score: 0.648\n",
      "R2 Score Adj: 0.617\n",
      "----------\n",
      "Ridge(alpha = 1000)\n",
      "MSE:3211993128.15\n",
      "RMSE:56674.45\n",
      "R2 Score: 0.501\n",
      "R2 Score Adj: 0.458\n",
      "----------\n",
      "Ridge(alpha = 10000)\n",
      "MSE:5547763268.81\n",
      "RMSE:74483.31\n",
      "R2 Score: 0.139\n",
      "R2 Score Adj: 0.064\n",
      "----------\n"
     ]
    }
   ],
   "source": [
    "mse_ = []\n",
    "r2score_= []\n",
    "adj_r2score_= []\n",
    "alpha_ridge = [1e-8, 1e-4, 1e-3, 1e-2, 1, 5, 10, 20, 100, 1000, 10000]\n",
    "\n",
    "for alpha in alpha_ridge:    \n",
    "    steps = [('Ridge', Ridge(alpha = alpha, random_state=2021))]\n",
    "    pipe = Pipeline(steps)\n",
    "    pipe.fit(X_train_ss, y_train)\n",
    "    y_pred = pipe.predict(X_test_ss)\n",
    "    mse = mean_squared_error(y_test, y_pred)\n",
    "    r2score = r2_score(y_test, y_pred)\n",
    "    adj_r2score = adj_r2(X_test_ss, r2score)\n",
    "    \n",
    "    mse_.append(mse)\n",
    "    r2score_.append(r2score)\n",
    "    adj_r2score_.append(adj_r2score)\n",
    "    \n",
    "    print(f'Ridge(alpha = {alpha})')\n",
    "    print(f'MSE:{mse.round(2)}')\n",
    "    print(f'RMSE:{np.sqrt(mse).round(2)}')\n",
    "    print(f'R2 Score: {r2score.round(3)}')\n",
    "    print(f'R2 Score Adj: {adj_r2score.round(3)}')\n",
    "    print('-'*10)"
   ]
  },
  {
   "cell_type": "code",
   "execution_count": 19,
   "metadata": {},
   "outputs": [
    {
     "name": "stdout",
     "output_type": "stream",
     "text": [
      "Ridge ----------\n"
     ]
    },
    {
     "data": {
      "image/png": "[encoded data removed]",
      "text/plain": [
       "<Figure size 1152x288 with 3 Axes>"
      ]
     },
     "metadata": {
      "needs_background": "light"
     },
     "output_type": "display_data"
    }
   ],
   "source": [
    "visualize2D(mse_, r2score_, adj_r2score_, 'Ridge')"
   ]
  },
  {
   "cell_type": "code",
   "execution_count": 20,
   "metadata": {},
   "outputs": [
    {
     "name": "stdout",
     "output_type": "stream",
     "text": [
      "MSE:2191990352.71\n",
      "RMSE:46818.7\n",
      "R2 Score: 0.66\n",
      "R2 Score Adj: 0.63\n",
      "----------\n"
     ]
    }
   ],
   "source": [
    "# Ridge\n",
    "steps = [('Ridge', Ridge(alpha = alpha_ridge[0]))]\n",
    "pipe = Pipeline(steps)\n",
    "pipe.fit(X_train_ss, y_train)\n",
    "y_pred = pipe.predict(X_test_ss)\n",
    "mse = mean_squared_error(y_test, y_pred)\n",
    "r2score = r2_score(y_test, y_pred)\n",
    "adj_r2score = adj_r2(X_test_ss, r2score)\n",
    "\n",
    "print(f'MSE:{mse.round(2)}')\n",
    "print(f'RMSE:{np.sqrt(mse).round(2)}')\n",
    "print(f'R2 Score: {r2score.round(3)}')\n",
    "print(f'R2 Score Adj: {adj_r2score.round(3)}')\n",
    "print('-'*10)"
   ]
  },
  {
   "cell_type": "markdown",
   "metadata": {},
   "source": [
    "### Lasso"
   ]
  },
  {
   "cell_type": "code",
   "execution_count": 21,
   "metadata": {},
   "outputs": [
    {
     "name": "stdout",
     "output_type": "stream",
     "text": [
      "Lasso(alpha = 1e-08)\n",
      "MSE:2191990352.71\n",
      "RMSE:46818.7\n",
      "R2 Score: 0.66\n",
      "R2 Score Adj: 0.63\n",
      "----------\n",
      "Lasso(alpha = 0.0001)\n",
      "MSE:2191990346.45\n",
      "RMSE:46818.7\n",
      "R2 Score: 0.66\n",
      "R2 Score Adj: 0.63\n",
      "----------\n",
      "Lasso(alpha = 0.001)\n",
      "MSE:2191990290.19\n",
      "RMSE:46818.7\n",
      "R2 Score: 0.66\n",
      "R2 Score Adj: 0.63\n",
      "----------\n",
      "Lasso(alpha = 0.01)\n",
      "MSE:2191989727.59\n",
      "RMSE:46818.69\n",
      "R2 Score: 0.66\n",
      "R2 Score Adj: 0.63\n",
      "----------\n",
      "Lasso(alpha = 1)\n",
      "MSE:2192105088.16\n",
      "RMSE:46819.92\n",
      "R2 Score: 0.66\n",
      "R2 Score Adj: 0.63\n",
      "----------\n",
      "Lasso(alpha = 5)\n",
      "MSE:2192633574.29\n",
      "RMSE:46825.57\n",
      "R2 Score: 0.66\n",
      "R2 Score Adj: 0.63\n",
      "----------\n",
      "Lasso(alpha = 10)\n",
      "MSE:2193278638.56\n",
      "RMSE:46832.45\n",
      "R2 Score: 0.66\n",
      "R2 Score Adj: 0.63\n",
      "----------\n",
      "Lasso(alpha = 20)\n",
      "MSE:2194603702.88\n",
      "RMSE:46846.6\n",
      "R2 Score: 0.659\n",
      "R2 Score Adj: 0.63\n",
      "----------\n"
     ]
    },
    {
     "name": "stderr",
     "output_type": "stream",
     "text": [
      "C:\\Users\\Hyeyeon\\anaconda3\\lib\\site-packages\\sklearn\\linear_model\\_coordinate_descent.py:529: ConvergenceWarning: Objective did not converge. You might want to increase the number of iterations. Duality gap: 1232976832.3549805, tolerance: 257141879.74764332\n",
      "  model = cd_fast.enet_coordinate_descent(\n",
      "C:\\Users\\Hyeyeon\\anaconda3\\lib\\site-packages\\sklearn\\linear_model\\_coordinate_descent.py:529: ConvergenceWarning: Objective did not converge. You might want to increase the number of iterations. Duality gap: 1228679335.1866455, tolerance: 257141879.74764332\n",
      "  model = cd_fast.enet_coordinate_descent(\n",
      "C:\\Users\\Hyeyeon\\anaconda3\\lib\\site-packages\\sklearn\\linear_model\\_coordinate_descent.py:529: ConvergenceWarning: Objective did not converge. You might want to increase the number of iterations. Duality gap: 1228687925.2089844, tolerance: 257141879.74764332\n",
      "  model = cd_fast.enet_coordinate_descent(\n",
      "C:\\Users\\Hyeyeon\\anaconda3\\lib\\site-packages\\sklearn\\linear_model\\_coordinate_descent.py:529: ConvergenceWarning: Objective did not converge. You might want to increase the number of iterations. Duality gap: 1228780159.9388428, tolerance: 257141879.74764332\n",
      "  model = cd_fast.enet_coordinate_descent(\n",
      "C:\\Users\\Hyeyeon\\anaconda3\\lib\\site-packages\\sklearn\\linear_model\\_coordinate_descent.py:529: ConvergenceWarning: Objective did not converge. You might want to increase the number of iterations. Duality gap: 1236285712.3736572, tolerance: 257141879.74764332\n",
      "  model = cd_fast.enet_coordinate_descent(\n",
      "C:\\Users\\Hyeyeon\\anaconda3\\lib\\site-packages\\sklearn\\linear_model\\_coordinate_descent.py:529: ConvergenceWarning: Objective did not converge. You might want to increase the number of iterations. Duality gap: 1249780055.4035645, tolerance: 257141879.74764332\n",
      "  model = cd_fast.enet_coordinate_descent(\n",
      "C:\\Users\\Hyeyeon\\anaconda3\\lib\\site-packages\\sklearn\\linear_model\\_coordinate_descent.py:529: ConvergenceWarning: Objective did not converge. You might want to increase the number of iterations. Duality gap: 1270491606.6313477, tolerance: 257141879.74764332\n",
      "  model = cd_fast.enet_coordinate_descent(\n"
     ]
    }
   ],
   "source": [
    "mse_ = []\n",
    "r2score_= []\n",
    "adj_r2score_= []\n",
    "alpha_lasso = [1e-8, 1e-4, 1e-3, 1e-2, 1, 5, 10, 20]\n",
    "\n",
    "for alpha in alpha_lasso:    \n",
    "    steps = [('Lasso', Lasso(alpha = alpha, random_state=2021))]\n",
    "    pipe = Pipeline(steps)\n",
    "    pipe.fit(X_train_ss, y_train)\n",
    "    y_pred = pipe.predict(X_test_ss)\n",
    "    mse = mean_squared_error(y_test, y_pred)\n",
    "    r2score = r2_score(y_test, y_pred)\n",
    "    adj_r2score = adj_r2(X_test_ss, r2score)\n",
    "    \n",
    "    mse_.append(mse)\n",
    "    r2score_.append(r2score)\n",
    "    adj_r2score_.append(adj_r2score)\n",
    "    \n",
    "    print(f'Lasso(alpha = {alpha})')\n",
    "    print(f'MSE:{mse.round(2)}')\n",
    "    print(f'RMSE:{np.sqrt(mse).round(2)}')\n",
    "    print(f'R2 Score: {r2score.round(3)}')\n",
    "    print(f'R2 Score Adj: {adj_r2score.round(3)}')\n",
    "    print('-'*10)"
   ]
  },
  {
   "cell_type": "code",
   "execution_count": 22,
   "metadata": {},
   "outputs": [
    {
     "name": "stdout",
     "output_type": "stream",
     "text": [
      "Lasso ----------\n"
     ]
    },
    {
     "data": {
      "image/png": "[encoded data removed]",
      "text/plain": [
       "<Figure size 1152x288 with 3 Axes>"
      ]
     },
     "metadata": {
      "needs_background": "light"
     },
     "output_type": "display_data"
    }
   ],
   "source": [
    "visualize2D(mse_, r2score_, adj_r2score_, 'Lasso')"
   ]
  },
  {
   "cell_type": "code",
   "execution_count": 23,
   "metadata": {},
   "outputs": [
    {
     "name": "stdout",
     "output_type": "stream",
     "text": [
      "lasso_alpha:0.01\n",
      "MSE:2191989727.59\n",
      "RMSE:46818.69\n",
      "R2 Score: 0.66\n",
      "R2 Score Adj: 0.63\n",
      "----------\n"
     ]
    },
    {
     "name": "stderr",
     "output_type": "stream",
     "text": [
      "C:\\Users\\Hyeyeon\\anaconda3\\lib\\site-packages\\sklearn\\linear_model\\_coordinate_descent.py:529: ConvergenceWarning: Objective did not converge. You might want to increase the number of iterations. Duality gap: 1228780159.9388428, tolerance: 257141879.74764332\n",
      "  model = cd_fast.enet_coordinate_descent(\n"
     ]
    }
   ],
   "source": [
    "# Lasso\n",
    "steps = [('Lasso', Lasso(alpha = alpha_lasso[3]))]\n",
    "pipe = Pipeline(steps)\n",
    "pipe.fit(X_train_ss, y_train)\n",
    "y_pred = pipe.predict(X_test_ss)\n",
    "\n",
    "mse = mean_squared_error(y_test, y_pred)\n",
    "r2score = r2_score(y_test, y_pred)\n",
    "adj_r2score = adj_r2(X_test_ss, r2score)\n",
    "\n",
    "print(f'lasso_alpha:{alpha_lasso[3]}')\n",
    "print(f'MSE:{mse.round(2)}')\n",
    "print(f'RMSE:{np.sqrt(mse).round(2)}')\n",
    "print(f'R2 Score: {r2score.round(3)}')\n",
    "print(f'R2 Score Adj: {adj_r2score.round(3)}')\n",
    "\n",
    "print('-'*10)"
   ]
  },
  {
   "cell_type": "markdown",
   "metadata": {},
   "source": [
    "## Regression Model Assumptions Check"
   ]
  },
  {
   "cell_type": "markdown",
   "metadata": {},
   "source": [
    "### Linearity Check\n",
    "#### Residual Plot"
   ]
  },
  {
   "cell_type": "code",
   "execution_count": 24,
   "metadata": {},
   "outputs": [],
   "source": [
    "residuals = y_test-y_pred"
   ]
  },
  {
   "cell_type": "code",
   "execution_count": 25,
   "metadata": {},
   "outputs": [
    {
     "data": {
      "text/plain": [
       "(288,)"
      ]
     },
     "execution_count": 25,
     "metadata": {},
     "output_type": "execute_result"
    }
   ],
   "source": [
    "residuals.shape"
   ]
  },
  {
   "cell_type": "code",
   "execution_count": 26,
   "metadata": {},
   "outputs": [],
   "source": [
    "# Find best line of fit\n",
    "m, b = np.polyfit(x=y_pred, y=residuals, deg=1)"
   ]
  },
  {
   "cell_type": "code",
   "execution_count": 27,
   "metadata": {},
   "outputs": [
    {
     "name": "stdout",
     "output_type": "stream",
     "text": [
      "y= 0.1442*x + -90276.81\n"
     ]
    },
    {
     "data": {
      "image/png": "[encoded data removed]",
      "text/plain": [
       "<Figure size 432x288 with 1 Axes>"
      ]
     },
     "metadata": {
      "needs_background": "light"
     },
     "output_type": "display_data"
    }
   ],
   "source": [
    "plt.scatter(y_pred, residuals)\n",
    "plt.plot(y_pred, m*y_pred+b, color = 'black',)\n",
    "print(f'y= {m.round(4)}*x + {b.round(2)}')"
   ]
  },
  {
   "cell_type": "markdown",
   "metadata": {},
   "source": [
    "#### QQplot"
   ]
  },
  {
   "cell_type": "code",
   "execution_count": 28,
   "metadata": {},
   "outputs": [],
   "source": [
    "import statsmodels.api as sm"
   ]
  },
  {
   "cell_type": "code",
   "execution_count": 29,
   "metadata": {},
   "outputs": [
    {
     "data": {
      "image/png": "[encoded data removed]",
      "text/plain": [
       "<Figure size 432x288 with 1 Axes>"
      ]
     },
     "metadata": {
      "needs_background": "light"
     },
     "output_type": "display_data"
    }
   ],
   "source": [
    "fig = sm.qqplot(residuals, line=\"r\")"
   ]
  },
  {
   "cell_type": "code",
   "execution_count": 30,
   "metadata": {},
   "outputs": [
    {
     "data": {
      "text/plain": [
       "<AxesSubplot:xlabel='Sold_price', ylabel='Count'>"
      ]
     },
     "execution_count": 30,
     "metadata": {},
     "output_type": "execute_result"
    },
    {
     "data": {
      "image/png": "[encoded data removed]",
      "text/plain": [
       "<Figure size 432x288 with 1 Axes>"
      ]
     },
     "metadata": {
      "needs_background": "light"
     },
     "output_type": "display_data"
    }
   ],
   "source": [
    "import seaborn as sns\n",
    "sns.histplot(residuals, bins=20, kde=True)"
   ]
  },
  {
   "cell_type": "code",
   "execution_count": 31,
   "metadata": {},
   "outputs": [
    {
     "name": "stdout",
     "output_type": "stream",
     "text": [
      "Coefficients:[ 32859.73129574   8982.22133914   2979.88365858   7563.12108323\n",
      "  10052.36022274  -7195.42267026   6793.09865559 -13388.53076625\n",
      "  -5748.11333811  -3330.12196224   6379.87376292   -255.02496333\n",
      "   1361.35454612   -755.34538433   3449.45415302     40.62057168\n",
      "   2995.56793552  -1012.95261608   -449.07274743  -1545.45294669\n",
      "   -700.88159911  -2892.03829528   2421.9251244 ]\n"
     ]
    }
   ],
   "source": [
    "classifier = pipe.named_steps['Lasso']\n",
    "print(f'Coefficients:{classifier.coef_}')"
   ]
  },
  {
   "cell_type": "code",
   "execution_count": 32,
   "metadata": {},
   "outputs": [
    {
     "data": {
      "text/plain": [
       "23"
      ]
     },
     "execution_count": 32,
     "metadata": {},
     "output_type": "execute_result"
    }
   ],
   "source": [
    "len(classifier.coef_)"
   ]
  },
  {
   "cell_type": "code",
   "execution_count": 33,
   "metadata": {},
   "outputs": [],
   "source": [
    "coefficients = pd.DataFrame(classifier.coef_, index = X_test.columns)"
   ]
  },
  {
   "cell_type": "code",
   "execution_count": 34,
   "metadata": {},
   "outputs": [
    {
     "data": {
      "text/html": [
       "<div>\n",
       "<style scoped>\n",
       "    .dataframe tbody tr th:only-of-type {\n",
       "        vertical-align: middle;\n",
       "    }\n",
       "\n",
       "    .dataframe tbody tr th {\n",
       "        vertical-align: top;\n",
       "    }\n",
       "\n",
       "    .dataframe thead th {\n",
       "        text-align: right;\n",
       "    }\n",
       "</style>\n",
       "<table border=\"1\" class=\"dataframe\">\n",
       "  <thead>\n",
       "    <tr style=\"text-align: right;\">\n",
       "      <th></th>\n",
       "      <th>0</th>\n",
       "    </tr>\n",
       "  </thead>\n",
       "  <tbody>\n",
       "    <tr>\n",
       "      <th>Listing_price</th>\n",
       "      <td>32859.73</td>\n",
       "    </tr>\n",
       "    <tr>\n",
       "      <th>Bedroom</th>\n",
       "      <td>8982.22</td>\n",
       "    </tr>\n",
       "    <tr>\n",
       "      <th>Washroom</th>\n",
       "      <td>2979.88</td>\n",
       "    </tr>\n",
       "    <tr>\n",
       "      <th>Parking</th>\n",
       "      <td>7563.12</td>\n",
       "    </tr>\n",
       "    <tr>\n",
       "      <th>Tax</th>\n",
       "      <td>10052.36</td>\n",
       "    </tr>\n",
       "    <tr>\n",
       "      <th>Maintenance</th>\n",
       "      <td>-7195.42</td>\n",
       "    </tr>\n",
       "    <tr>\n",
       "      <th>Size</th>\n",
       "      <td>6793.10</td>\n",
       "    </tr>\n",
       "    <tr>\n",
       "      <th>Days_on_market</th>\n",
       "      <td>-13388.53</td>\n",
       "    </tr>\n",
       "    <tr>\n",
       "      <th>x0_Condo Apt</th>\n",
       "      <td>-5748.11</td>\n",
       "    </tr>\n",
       "    <tr>\n",
       "      <th>x0_Condo Townhouse</th>\n",
       "      <td>-3330.12</td>\n",
       "    </tr>\n",
       "    <tr>\n",
       "      <th>x0_Detached</th>\n",
       "      <td>6379.87</td>\n",
       "    </tr>\n",
       "    <tr>\n",
       "      <th>x0_Semi-Detached</th>\n",
       "      <td>-255.02</td>\n",
       "    </tr>\n",
       "    <tr>\n",
       "      <th>x1_E</th>\n",
       "      <td>1361.35</td>\n",
       "    </tr>\n",
       "    <tr>\n",
       "      <th>x1_N</th>\n",
       "      <td>-755.35</td>\n",
       "    </tr>\n",
       "    <tr>\n",
       "      <th>x1_NE</th>\n",
       "      <td>3449.45</td>\n",
       "    </tr>\n",
       "    <tr>\n",
       "      <th>x1_NW</th>\n",
       "      <td>40.62</td>\n",
       "    </tr>\n",
       "    <tr>\n",
       "      <th>x1_S</th>\n",
       "      <td>2995.57</td>\n",
       "    </tr>\n",
       "    <tr>\n",
       "      <th>x1_SE</th>\n",
       "      <td>-1012.95</td>\n",
       "    </tr>\n",
       "    <tr>\n",
       "      <th>x1_SW</th>\n",
       "      <td>-449.07</td>\n",
       "    </tr>\n",
       "    <tr>\n",
       "      <th>x1_W</th>\n",
       "      <td>-1545.45</td>\n",
       "    </tr>\n",
       "    <tr>\n",
       "      <th>x2_1_heat</th>\n",
       "      <td>-700.88</td>\n",
       "    </tr>\n",
       "    <tr>\n",
       "      <th>x3_1_hydro</th>\n",
       "      <td>-2892.04</td>\n",
       "    </tr>\n",
       "    <tr>\n",
       "      <th>x4_1_water</th>\n",
       "      <td>2421.93</td>\n",
       "    </tr>\n",
       "  </tbody>\n",
       "</table>\n",
       "</div>"
      ],
      "text/plain": [
       "                           0\n",
       "Listing_price       32859.73\n",
       "Bedroom              8982.22\n",
       "Washroom             2979.88\n",
       "Parking              7563.12\n",
       "Tax                 10052.36\n",
       "Maintenance         -7195.42\n",
       "Size                 6793.10\n",
       "Days_on_market     -13388.53\n",
       "x0_Condo Apt        -5748.11\n",
       "x0_Condo Townhouse  -3330.12\n",
       "x0_Detached          6379.87\n",
       "x0_Semi-Detached     -255.02\n",
       "x1_E                 1361.35\n",
       "x1_N                 -755.35\n",
       "x1_NE                3449.45\n",
       "x1_NW                  40.62\n",
       "x1_S                 2995.57\n",
       "x1_SE               -1012.95\n",
       "x1_SW                -449.07\n",
       "x1_W                -1545.45\n",
       "x2_1_heat            -700.88\n",
       "x3_1_hydro          -2892.04\n",
       "x4_1_water           2421.93"
      ]
     },
     "execution_count": 34,
     "metadata": {},
     "output_type": "execute_result"
    }
   ],
   "source": [
    "coefficients"
   ]
  },
  {
   "cell_type": "code",
   "execution_count": 35,
   "metadata": {},
   "outputs": [
    {
     "data": {
      "text/plain": [
       "(array([ 0,  1,  2,  3,  4,  5,  6,  7,  8,  9, 10, 11, 12, 13, 14, 15, 16,\n",
       "        17, 18, 19, 20, 21, 22]),\n",
       " [Text(0, 0, 'Listing_price'),\n",
       "  Text(1, 0, 'Tax'),\n",
       "  Text(2, 0, 'Bedroom'),\n",
       "  Text(3, 0, 'Parking'),\n",
       "  Text(4, 0, 'Size'),\n",
       "  Text(5, 0, 'x0_Detached'),\n",
       "  Text(6, 0, 'x1_NE'),\n",
       "  Text(7, 0, 'x1_S'),\n",
       "  Text(8, 0, 'Washroom'),\n",
       "  Text(9, 0, 'x4_1_water'),\n",
       "  Text(10, 0, 'x1_E'),\n",
       "  Text(11, 0, 'x1_NW'),\n",
       "  Text(12, 0, 'x0_Semi-Detached'),\n",
       "  Text(13, 0, 'x1_SW'),\n",
       "  Text(14, 0, 'x2_1_heat'),\n",
       "  Text(15, 0, 'x1_N'),\n",
       "  Text(16, 0, 'x1_SE'),\n",
       "  Text(17, 0, 'x1_W'),\n",
       "  Text(18, 0, 'x3_1_hydro'),\n",
       "  Text(19, 0, 'x0_Condo Townhouse'),\n",
       "  Text(20, 0, 'x0_Condo Apt'),\n",
       "  Text(21, 0, 'Maintenance'),\n",
       "  Text(22, 0, 'Days_on_market')])"
      ]
     },
     "execution_count": 35,
     "metadata": {},
     "output_type": "execute_result"
    },
    {
     "data": {
      "image/png": "[encoded data removed]",
      "text/plain": [
       "<Figure size 576x432 with 1 Axes>"
      ]
     },
     "metadata": {
      "needs_background": "light"
     },
     "output_type": "display_data"
    }
   ],
   "source": [
    "coefficients_matrix = coefficients.T\n",
    "data = coefficients_matrix.sort_values(by = 0, axis = 1 ,ascending=False)\n",
    "\n",
    "plt.subplots(figsize=(8, 6))\n",
    "sns.barplot(data=data).set(xlabel='Features', ylabel='Coefficients', title = 'Lamda:%d'%alpha)\n",
    "plt.xticks(rotation=90)"
   ]
  },
  {
   "cell_type": "markdown",
   "metadata": {},
   "source": [
    "### If not linear, \n",
    "#### PolynomialFeatures"
   ]
  },
  {
   "cell_type": "code",
   "execution_count": 36,
   "metadata": {},
   "outputs": [
    {
     "name": "stdout",
     "output_type": "stream",
     "text": [
      "MSE:3026398723.7780657\n",
      "R2 Score: 0.5301833092624642\n",
      "R2 Score Adj: 0.4892523096906334\n",
      "----------\n"
     ]
    },
    {
     "name": "stderr",
     "output_type": "stream",
     "text": [
      "C:\\Users\\Hyeyeon\\anaconda3\\lib\\site-packages\\sklearn\\linear_model\\_coordinate_descent.py:529: ConvergenceWarning: Objective did not converge. You might want to increase the number of iterations. Duality gap: 108136427765.56233, tolerance: 257141879.74764332\n",
      "  model = cd_fast.enet_coordinate_descent(\n"
     ]
    }
   ],
   "source": [
    "from sklearn.preprocessing import PolynomialFeatures\n",
    "poly = Pipeline([('poly', PolynomialFeatures(degree=2)), ('Lasso', Lasso())])\n",
    "poly.fit(X_train_ss, y_train)\n",
    "y_pred = poly.predict(X_test_ss)\n",
    "mse = mean_squared_error(y_test, y_pred)\n",
    "r2score = r2_score(y_test, y_pred)\n",
    "adj_r2score = adj_r2(X_test_ss, r2score)\n",
    "\n",
    "print(f'MSE:{mse}')\n",
    "print(f'R2 Score: {r2score}')\n",
    "print(f'R2 Score Adj: {adj_r2score}')\n",
    "print('-'*10)"
   ]
  },
  {
   "cell_type": "code",
   "execution_count": null,
   "metadata": {},
   "outputs": [],
   "source": []
  },
  {
   "cell_type": "code",
   "execution_count": 40,
   "metadata": {},
   "outputs": [],
   "source": [
    "from sklearn.linear_model import LinearRegression\n",
    "from sklearn.linear_model import Ridge\n",
    "from sklearn.linear_model import Lasso\n",
    "from sklearn.metrics import accuracy_score, log_loss\n",
    "from sklearn.neighbors import KNeighborsClassifier\n",
    "from sklearn.svm import SVC, LinearSVC, NuSVC\n",
    "from sklearn.tree import DecisionTreeRegressor\n",
    "from sklearn.ensemble import RandomForestRegressor, AdaBoostRegressor, GradientBoostingRegressor\n",
    "from sklearn.discriminant_analysis import LinearDiscriminantAnalysis\n",
    "from sklearn.discriminant_analysis import QuadraticDiscriminantAnalysis\n",
    "from sklearn.pipeline import Pipeline\n",
    "import xgboost as xgb"
   ]
  },
  {
   "cell_type": "code",
   "execution_count": 41,
   "metadata": {},
   "outputs": [],
   "source": [
    "models = [\n",
    "    LinearRegression(),\n",
    "    Ridge(alpha = 20, random_state=2021),\n",
    "    Lasso(alpha = 1e-8, random_state=2021),\n",
    "    DecisionTreeRegressor(max_depth = 4, random_state=2021),\n",
    "    RandomForestRegressor(n_estimators = 74, random_state = 2021),\n",
    "    GradientBoostingRegressor(random_state = 2021),\n",
    "    xgb.XGBRegressor(objective ='reg:squarederror', colsample_bytree = 0.6, learning_rate = 0.1,\n",
    "                max_depth = 2, n_estimators = 90, alpha= 0.5, random_state=2021),\n",
    "    AdaBoostRegressor(learning_rate = 0.03, n_estimators= 200, random_state = 2021),\n",
    "]"
   ]
  },
  {
   "cell_type": "code",
   "execution_count": 42,
   "metadata": {},
   "outputs": [
    {
     "name": "stdout",
     "output_type": "stream",
     "text": [
      "LinearRegression()\n",
      "model score: 0.703\n",
      "----\n",
      "Ridge(alpha=20, random_state=2021)\n",
      "model score: 0.706\n",
      "----\n",
      "Lasso(alpha=1e-08, random_state=2021)\n",
      "model score: 0.703\n",
      "----\n",
      "DecisionTreeRegressor(max_depth=4, random_state=2021)\n",
      "model score: 0.582\n",
      "----\n",
      "RandomForestRegressor(n_estimators=74, random_state=2021)\n",
      "model score: 0.756\n",
      "----\n"
     ]
    },
    {
     "name": "stderr",
     "output_type": "stream",
     "text": [
      "C:\\Users\\Hyeyeon\\anaconda3\\lib\\site-packages\\sklearn\\linear_model\\_coordinate_descent.py:529: ConvergenceWarning: Objective did not converge. You might want to increase the number of iterations. Duality gap: 21592771334.46588, tolerance: 226745026.52844366\n",
      "  model = cd_fast.enet_coordinate_descent(\n"
     ]
    },
    {
     "name": "stdout",
     "output_type": "stream",
     "text": [
      "GradientBoostingRegressor(random_state=2021)\n",
      "model score: 0.751\n",
      "----\n",
      "XGBRegressor(alpha=0.5, base_score=0.5, booster='gbtree', colsample_bylevel=1,\n",
      "             colsample_bynode=1, colsample_bytree=0.6, gamma=0, gpu_id=-1,\n",
      "             importance_type='gain', interaction_constraints='',\n",
      "             learning_rate=0.1, max_delta_step=0, max_depth=2,\n",
      "             min_child_weight=1, missing=nan, monotone_constraints='()',\n",
      "             n_estimators=90, n_jobs=12, num_parallel_tree=1, random_state=2021,\n",
      "             reg_alpha=0.5, reg_lambda=1, scale_pos_weight=1, subsample=1,\n",
      "             tree_method='exact', validate_parameters=1, verbosity=None)\n",
      "model score: 0.758\n",
      "----\n",
      "AdaBoostRegressor(learning_rate=0.03, n_estimators=200, random_state=2021)\n",
      "model score: 0.706\n",
      "----\n"
     ]
    }
   ],
   "source": [
    "scores = []\n",
    "model_names = []\n",
    "\n",
    "for model in models:\n",
    "    steps = [('model', model)]\n",
    "    pipe=Pipeline(steps)\n",
    "    \n",
    "    pipe.fit(X_train_ss, y_train)\n",
    "    score = pipe.score(X_test_ss, y_test)\n",
    "    model_names.append(str(model))\n",
    "    scores.append(score)\n",
    "    \n",
    "    print(f'{model}')\n",
    "    print(\"model score: %.3f\" % score)\n",
    "    print('----')"
   ]
  },
  {
   "cell_type": "code",
   "execution_count": 43,
   "metadata": {},
   "outputs": [
    {
     "data": {
      "text/plain": [
       "['LinearRegression',\n",
       " 'Ridge',\n",
       " 'Lasso',\n",
       " 'DecisionTreeRegressor',\n",
       " 'RandomForestRegressor',\n",
       " 'GradientBoostingRegressor',\n",
       " 'XGBRegressor',\n",
       " 'AdaBoostRegressor']"
      ]
     },
     "execution_count": 43,
     "metadata": {},
     "output_type": "execute_result"
    }
   ],
   "source": [
    "[model.split('(')[0] for model in model_names]"
   ]
  },
  {
   "cell_type": "code",
   "execution_count": 44,
   "metadata": {},
   "outputs": [],
   "source": [
    "model_summary = pd.DataFrame({'model': [model.split('(')[0] for model in model_names], \n",
    "              'score': scores,\n",
    "            'params': [model.split('(')[1].split(')')[0] for model in model_names]\n",
    "             }\n",
    "            )"
   ]
  },
  {
   "cell_type": "code",
   "execution_count": 45,
   "metadata": {},
   "outputs": [
    {
     "data": {
      "text/html": [
       "<div>\n",
       "<style scoped>\n",
       "    .dataframe tbody tr th:only-of-type {\n",
       "        vertical-align: middle;\n",
       "    }\n",
       "\n",
       "    .dataframe tbody tr th {\n",
       "        vertical-align: top;\n",
       "    }\n",
       "\n",
       "    .dataframe thead th {\n",
       "        text-align: right;\n",
       "    }\n",
       "</style>\n",
       "<table border=\"1\" class=\"dataframe\">\n",
       "  <thead>\n",
       "    <tr style=\"text-align: right;\">\n",
       "      <th></th>\n",
       "      <th>model</th>\n",
       "      <th>score</th>\n",
       "      <th>params</th>\n",
       "    </tr>\n",
       "  </thead>\n",
       "  <tbody>\n",
       "    <tr>\n",
       "      <th>0</th>\n",
       "      <td>XGBRegressor</td>\n",
       "      <td>0.76</td>\n",
       "      <td>alpha=0.5, base_score=0.5, booster='gbtree', c...</td>\n",
       "    </tr>\n",
       "    <tr>\n",
       "      <th>1</th>\n",
       "      <td>RandomForestRegressor</td>\n",
       "      <td>0.76</td>\n",
       "      <td>n_estimators=74, random_state=2021</td>\n",
       "    </tr>\n",
       "    <tr>\n",
       "      <th>2</th>\n",
       "      <td>GradientBoostingRegressor</td>\n",
       "      <td>0.75</td>\n",
       "      <td>random_state=2021</td>\n",
       "    </tr>\n",
       "    <tr>\n",
       "      <th>3</th>\n",
       "      <td>Ridge</td>\n",
       "      <td>0.71</td>\n",
       "      <td>alpha=20, random_state=2021</td>\n",
       "    </tr>\n",
       "    <tr>\n",
       "      <th>4</th>\n",
       "      <td>AdaBoostRegressor</td>\n",
       "      <td>0.71</td>\n",
       "      <td>learning_rate=0.03, n_estimators=200, random_s...</td>\n",
       "    </tr>\n",
       "    <tr>\n",
       "      <th>5</th>\n",
       "      <td>Lasso</td>\n",
       "      <td>0.70</td>\n",
       "      <td>alpha=1e-08, random_state=2021</td>\n",
       "    </tr>\n",
       "    <tr>\n",
       "      <th>6</th>\n",
       "      <td>LinearRegression</td>\n",
       "      <td>0.70</td>\n",
       "      <td></td>\n",
       "    </tr>\n",
       "    <tr>\n",
       "      <th>7</th>\n",
       "      <td>DecisionTreeRegressor</td>\n",
       "      <td>0.58</td>\n",
       "      <td>max_depth=4, random_state=2021</td>\n",
       "    </tr>\n",
       "  </tbody>\n",
       "</table>\n",
       "</div>"
      ],
      "text/plain": [
       "                       model  score  \\\n",
       "0               XGBRegressor   0.76   \n",
       "1      RandomForestRegressor   0.76   \n",
       "2  GradientBoostingRegressor   0.75   \n",
       "3                      Ridge   0.71   \n",
       "4          AdaBoostRegressor   0.71   \n",
       "5                      Lasso   0.70   \n",
       "6           LinearRegression   0.70   \n",
       "7      DecisionTreeRegressor   0.58   \n",
       "\n",
       "                                              params  \n",
       "0  alpha=0.5, base_score=0.5, booster='gbtree', c...  \n",
       "1                 n_estimators=74, random_state=2021  \n",
       "2                                  random_state=2021  \n",
       "3                        alpha=20, random_state=2021  \n",
       "4  learning_rate=0.03, n_estimators=200, random_s...  \n",
       "5                     alpha=1e-08, random_state=2021  \n",
       "6                                                     \n",
       "7                     max_depth=4, random_state=2021  "
      ]
     },
     "execution_count": 45,
     "metadata": {},
     "output_type": "execute_result"
    }
   ],
   "source": [
    "model_summary.sort_values('score', ascending=False).reset_index(drop=True)"
   ]
  }
 ],
 "metadata": {
  "kernelspec": {
   "display_name": "Python 3",
   "language": "python",
   "name": "python3"
  },
  "language_info": {
   "codemirror_mode": {
    "name": "ipython",
    "version": 3
   },
   "file_extension": ".py",
   "mimetype": "text/x-python",
   "name": "python",
   "nbconvert_exporter": "python",
   "pygments_lexer": "ipython3",
   "version": "3.8.5"
  }
 },
 "nbformat": 4,
 "nbformat_minor": 4
}
