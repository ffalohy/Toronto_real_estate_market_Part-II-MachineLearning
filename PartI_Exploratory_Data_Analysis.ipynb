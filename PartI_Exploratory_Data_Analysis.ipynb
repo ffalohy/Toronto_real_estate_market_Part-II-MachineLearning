{
 "cells": [
  {
   "cell_type": "markdown",
   "metadata": {},
   "source": [
    "## Part II: Exploratory Data Analysis"
   ]
  },
  {
   "cell_type": "code",
   "execution_count": 1,
   "metadata": {},
   "outputs": [],
   "source": [
    "import pandas as pd\n",
    "import numpy as np\n",
    "import matplotlib.pyplot as plt\n",
    "%matplotlib inline"
   ]
  },
  {
   "cell_type": "code",
   "execution_count": 2,
   "metadata": {},
   "outputs": [],
   "source": [
    "df = pd.read_csv('20210315_Housesigma_just_sold_final_combined.csv')"
   ]
  },
  {
   "cell_type": "code",
   "execution_count": 3,
   "metadata": {},
   "outputs": [
    {
     "data": {
      "text/html": [
       "<div>\n",
       "<style scoped>\n",
       "    .dataframe tbody tr th:only-of-type {\n",
       "        vertical-align: middle;\n",
       "    }\n",
       "\n",
       "    .dataframe tbody tr th {\n",
       "        vertical-align: top;\n",
       "    }\n",
       "\n",
       "    .dataframe thead th {\n",
       "        text-align: right;\n",
       "    }\n",
       "</style>\n",
       "<table border=\"1\" class=\"dataframe\">\n",
       "  <thead>\n",
       "    <tr style=\"text-align: right;\">\n",
       "      <th></th>\n",
       "      <th>Listing_num</th>\n",
       "      <th>Address</th>\n",
       "      <th>Community</th>\n",
       "      <th>House_type</th>\n",
       "      <th>Listing_price</th>\n",
       "      <th>Sigma_estimate</th>\n",
       "      <th>Estimated_on</th>\n",
       "      <th>Sold_price</th>\n",
       "      <th>Bedroom</th>\n",
       "      <th>Washroom</th>\n",
       "      <th>...</th>\n",
       "      <th>Days_on_market</th>\n",
       "      <th>Rental_dom</th>\n",
       "      <th>Listed_on</th>\n",
       "      <th>Updated_on</th>\n",
       "      <th>Rental_estimate</th>\n",
       "      <th>Rental_yield</th>\n",
       "      <th>Major_intersection</th>\n",
       "      <th>Amenities</th>\n",
       "      <th>Exposure</th>\n",
       "      <th>Municipality</th>\n",
       "    </tr>\n",
       "  </thead>\n",
       "  <tbody>\n",
       "    <tr>\n",
       "      <th>0</th>\n",
       "      <td>C5128526</td>\n",
       "      <td>Unit 602 - 38 Stewart St</td>\n",
       "      <td>Waterfront Communities C1 - Toronto</td>\n",
       "      <td>Condo Apt</td>\n",
       "      <td>599000</td>\n",
       "      <td>643747</td>\n",
       "      <td>2021-03-15 00:00:00</td>\n",
       "      <td>595000.0</td>\n",
       "      <td>1.00</td>\n",
       "      <td>1</td>\n",
       "      <td>...</td>\n",
       "      <td>18</td>\n",
       "      <td>31.0</td>\n",
       "      <td>2021-02-25 00:00:00</td>\n",
       "      <td>2021-03-15 00:00:00</td>\n",
       "      <td>1570.0</td>\n",
       "      <td>1.59</td>\n",
       "      <td>King St &amp; Bathurst St</td>\n",
       "      <td>Concierge, Exercise Room, Gym, Outdoor Pool, R...</td>\n",
       "      <td>S</td>\n",
       "      <td>Toronto</td>\n",
       "    </tr>\n",
       "    <tr>\n",
       "      <th>1</th>\n",
       "      <td>C5073554</td>\n",
       "      <td>Unit 321 - 633 Bay St</td>\n",
       "      <td>Bay Street Corridor - Toronto</td>\n",
       "      <td>Condo Apt</td>\n",
       "      <td>619900</td>\n",
       "      <td>639904</td>\n",
       "      <td>2021-03-15 00:00:00</td>\n",
       "      <td>603000.0</td>\n",
       "      <td>1.00</td>\n",
       "      <td>1</td>\n",
       "      <td>...</td>\n",
       "      <td>72</td>\n",
       "      <td>33.0</td>\n",
       "      <td>2021-01-02 00:00:00</td>\n",
       "      <td>2021-03-15 00:00:00</td>\n",
       "      <td>1946.0</td>\n",
       "      <td>1.68</td>\n",
       "      <td>Bay &amp; Dundas</td>\n",
       "      <td>Concierge, Exercise Room, Indoor Pool, Party/M...</td>\n",
       "      <td>N</td>\n",
       "      <td>Toronto</td>\n",
       "    </tr>\n",
       "    <tr>\n",
       "      <th>2</th>\n",
       "      <td>C5149549</td>\n",
       "      <td>Unit 3406 - 295 Adelaide St W</td>\n",
       "      <td>Waterfront Communities C1 - Toronto</td>\n",
       "      <td>Condo Apt</td>\n",
       "      <td>659000</td>\n",
       "      <td>689138</td>\n",
       "      <td>2021-03-15 00:00:00</td>\n",
       "      <td>721223.0</td>\n",
       "      <td>1.33</td>\n",
       "      <td>1</td>\n",
       "      <td>...</td>\n",
       "      <td>2</td>\n",
       "      <td>30.0</td>\n",
       "      <td>2021-03-12 00:00:00</td>\n",
       "      <td>2021-03-15 00:00:00</td>\n",
       "      <td>1844.0</td>\n",
       "      <td>1.81</td>\n",
       "      <td>Adelaide &amp; John</td>\n",
       "      <td>Gym, Indoor Pool, Party/Meeting Room, Sauna, S...</td>\n",
       "      <td>E</td>\n",
       "      <td>Toronto</td>\n",
       "    </tr>\n",
       "    <tr>\n",
       "      <th>3</th>\n",
       "      <td>C5143960</td>\n",
       "      <td>Unit 412 - 90 Trinity St</td>\n",
       "      <td>Moss Park - Toronto</td>\n",
       "      <td>Condo Apt</td>\n",
       "      <td>670000</td>\n",
       "      <td>707359</td>\n",
       "      <td>2021-03-15 00:00:00</td>\n",
       "      <td>670000.0</td>\n",
       "      <td>1.33</td>\n",
       "      <td>1</td>\n",
       "      <td>...</td>\n",
       "      <td>6</td>\n",
       "      <td>28.0</td>\n",
       "      <td>2021-03-08 00:00:00</td>\n",
       "      <td>2021-03-15 00:00:00</td>\n",
       "      <td>2400.0</td>\n",
       "      <td>2.46</td>\n",
       "      <td>Front &amp; Parliament</td>\n",
       "      <td>Bbqs Allowed, Exercise Room, Party/Meeting Roo...</td>\n",
       "      <td>NW</td>\n",
       "      <td>Toronto</td>\n",
       "    </tr>\n",
       "    <tr>\n",
       "      <th>4</th>\n",
       "      <td>C5133188</td>\n",
       "      <td>Unit 37 - 88 Carr St</td>\n",
       "      <td>Kensington-Chinatown - Toronto</td>\n",
       "      <td>Condo Townhouse</td>\n",
       "      <td>589000</td>\n",
       "      <td>679127</td>\n",
       "      <td>2021-03-15 00:00:00</td>\n",
       "      <td>709999.0</td>\n",
       "      <td>2.00</td>\n",
       "      <td>2</td>\n",
       "      <td>...</td>\n",
       "      <td>12</td>\n",
       "      <td>26.0</td>\n",
       "      <td>2021-03-02 00:00:00</td>\n",
       "      <td>2021-03-15 00:00:00</td>\n",
       "      <td>2650.0</td>\n",
       "      <td>3.18</td>\n",
       "      <td>North East Of Bathurst &amp; Queen</td>\n",
       "      <td>Bbqs Allowed, Security System</td>\n",
       "      <td>E</td>\n",
       "      <td>Toronto</td>\n",
       "    </tr>\n",
       "  </tbody>\n",
       "</table>\n",
       "<p>5 rows × 28 columns</p>\n",
       "</div>"
      ],
      "text/plain": [
       "  Listing_num                        Address  \\\n",
       "0    C5128526       Unit 602 - 38 Stewart St   \n",
       "1    C5073554          Unit 321 - 633 Bay St   \n",
       "2    C5149549  Unit 3406 - 295 Adelaide St W   \n",
       "3    C5143960       Unit 412 - 90 Trinity St   \n",
       "4    C5133188           Unit 37 - 88 Carr St   \n",
       "\n",
       "                             Community       House_type  Listing_price  \\\n",
       "0  Waterfront Communities C1 - Toronto        Condo Apt         599000   \n",
       "1        Bay Street Corridor - Toronto        Condo Apt         619900   \n",
       "2  Waterfront Communities C1 - Toronto        Condo Apt         659000   \n",
       "3                  Moss Park - Toronto        Condo Apt         670000   \n",
       "4       Kensington-Chinatown - Toronto  Condo Townhouse         589000   \n",
       "\n",
       "   Sigma_estimate         Estimated_on  Sold_price  Bedroom  Washroom  ...  \\\n",
       "0          643747  2021-03-15 00:00:00    595000.0     1.00         1  ...   \n",
       "1          639904  2021-03-15 00:00:00    603000.0     1.00         1  ...   \n",
       "2          689138  2021-03-15 00:00:00    721223.0     1.33         1  ...   \n",
       "3          707359  2021-03-15 00:00:00    670000.0     1.33         1  ...   \n",
       "4          679127  2021-03-15 00:00:00    709999.0     2.00         2  ...   \n",
       "\n",
       "   Days_on_market  Rental_dom            Listed_on           Updated_on  \\\n",
       "0              18        31.0  2021-02-25 00:00:00  2021-03-15 00:00:00   \n",
       "1              72        33.0  2021-01-02 00:00:00  2021-03-15 00:00:00   \n",
       "2               2        30.0  2021-03-12 00:00:00  2021-03-15 00:00:00   \n",
       "3               6        28.0  2021-03-08 00:00:00  2021-03-15 00:00:00   \n",
       "4              12        26.0  2021-03-02 00:00:00  2021-03-15 00:00:00   \n",
       "\n",
       "  Rental_estimate  Rental_yield              Major_intersection  \\\n",
       "0          1570.0          1.59           King St & Bathurst St   \n",
       "1          1946.0          1.68                    Bay & Dundas   \n",
       "2          1844.0          1.81                 Adelaide & John   \n",
       "3          2400.0          2.46              Front & Parliament   \n",
       "4          2650.0          3.18  North East Of Bathurst & Queen   \n",
       "\n",
       "                                           Amenities  Exposure  Municipality  \n",
       "0  Concierge, Exercise Room, Gym, Outdoor Pool, R...         S       Toronto  \n",
       "1  Concierge, Exercise Room, Indoor Pool, Party/M...         N       Toronto  \n",
       "2  Gym, Indoor Pool, Party/Meeting Room, Sauna, S...         E       Toronto  \n",
       "3  Bbqs Allowed, Exercise Room, Party/Meeting Roo...        NW       Toronto  \n",
       "4                      Bbqs Allowed, Security System         E       Toronto  \n",
       "\n",
       "[5 rows x 28 columns]"
      ]
     },
     "execution_count": 3,
     "metadata": {},
     "output_type": "execute_result"
    }
   ],
   "source": [
    "df.head()"
   ]
  },
  {
   "cell_type": "code",
   "execution_count": 4,
   "metadata": {},
   "outputs": [
    {
     "name": "stdout",
     "output_type": "stream",
     "text": [
      "<class 'pandas.core.frame.DataFrame'>\n",
      "RangeIndex: 961 entries, 0 to 960\n",
      "Data columns (total 28 columns):\n",
      " #   Column              Non-Null Count  Dtype  \n",
      "---  ------              --------------  -----  \n",
      " 0   Listing_num         961 non-null    object \n",
      " 1   Address             961 non-null    object \n",
      " 2   Community           961 non-null    object \n",
      " 3   House_type          961 non-null    object \n",
      " 4   Listing_price       961 non-null    int64  \n",
      " 5   Sigma_estimate      961 non-null    int64  \n",
      " 6   Estimated_on        961 non-null    object \n",
      " 7   Sold_price          960 non-null    float64\n",
      " 8   Bedroom             961 non-null    float64\n",
      " 9   Washroom            961 non-null    int64  \n",
      " 10  Parking             961 non-null    int64  \n",
      " 11  Tax                 925 non-null    float64\n",
      " 12  Property_type       961 non-null    object \n",
      " 13  Maintenance         932 non-null    float64\n",
      " 14  Building_age        469 non-null    object \n",
      " 15  Size                959 non-null    float64\n",
      " 16  Basement            49 non-null     object \n",
      " 17  Utility_incl        852 non-null    object \n",
      " 18  Days_on_market      961 non-null    int64  \n",
      " 19  Rental_dom          952 non-null    float64\n",
      " 20  Listed_on           961 non-null    object \n",
      " 21  Updated_on          961 non-null    object \n",
      " 22  Rental_estimate     952 non-null    float64\n",
      " 23  Rental_yield        952 non-null    float64\n",
      " 24  Major_intersection  953 non-null    object \n",
      " 25  Amenities           807 non-null    object \n",
      " 26  Exposure            933 non-null    object \n",
      " 27  Municipality        961 non-null    object \n",
      "dtypes: float64(8), int64(5), object(15)\n",
      "memory usage: 210.3+ KB\n"
     ]
    }
   ],
   "source": [
    "df.info()"
   ]
  },
  {
   "cell_type": "code",
   "execution_count": 5,
   "metadata": {},
   "outputs": [
    {
     "data": {
      "text/plain": [
       "array(['water,heat', 'water,hydro,heat', 'water', nan, 'heat', 'hydro'],\n",
       "      dtype=object)"
      ]
     },
     "execution_count": 5,
     "metadata": {},
     "output_type": "execute_result"
    }
   ],
   "source": [
    "df['Utility_incl'].unique()"
   ]
  },
  {
   "cell_type": "code",
   "execution_count": 7,
   "metadata": {},
   "outputs": [],
   "source": [
    "index = np.where(df['Utility_incl']=='heat')"
   ]
  },
  {
   "cell_type": "code",
   "execution_count": null,
   "metadata": {},
   "outputs": [],
   "source": [
    "index"
   ]
  },
  {
   "cell_type": "code",
   "execution_count": 6,
   "metadata": {},
   "outputs": [],
   "source": [
    "df['heat'] = 0\n",
    "df['water'] = 0\n",
    "df['hydro'] = 0"
   ]
  },
  {
   "cell_type": "code",
   "execution_count": 8,
   "metadata": {},
   "outputs": [
    {
     "name": "stderr",
     "output_type": "stream",
     "text": [
      "C:\\Users\\Hyeyeon\\anaconda3\\lib\\site-packages\\pandas\\core\\indexing.py:670: SettingWithCopyWarning: \n",
      "A value is trying to be set on a copy of a slice from a DataFrame\n",
      "\n",
      "See the caveats in the documentation: https://pandas.pydata.org/pandas-docs/stable/user_guide/indexing.html#returning-a-view-versus-a-copy\n",
      "  iloc._setitem_with_indexer(indexer, value)\n"
     ]
    }
   ],
   "source": [
    "df['heat'].iloc[index] = 1\n",
    "\n",
    "index_2 = np.where(df['Utility_incl']=='water,heat')\n",
    "df['heat'].iloc[index_2] = 1\n",
    "df['water'].iloc[index_2] = 1\n",
    "\n",
    "index_3 = np.where(df['Utility_incl']=='water')\n",
    "df['water'].iloc[index_3] = 1\n",
    "\n",
    "index_4 = np.where(df['Utility_incl']=='water,hydro,heat')\n",
    "df['heat'].iloc[index_4] = 1\n",
    "df['water'].iloc[index_4] = 1\n",
    "df['hydro'].iloc[index_4] = 1\n",
    "\n",
    "index_5 = np.where(df['Utility_incl']=='hydro')\n",
    "df['hydro'].iloc[index_5] = 1\n",
    "\n",
    "index_6 = np.where(df['Utility_incl']=='water,hydro')\n",
    "df['water'].iloc[index_4] = 1\n",
    "df['hydro'].iloc[index_4] = 1"
   ]
  },
  {
   "cell_type": "code",
   "execution_count": 9,
   "metadata": {},
   "outputs": [
    {
     "data": {
      "text/html": [
       "<div>\n",
       "<style scoped>\n",
       "    .dataframe tbody tr th:only-of-type {\n",
       "        vertical-align: middle;\n",
       "    }\n",
       "\n",
       "    .dataframe tbody tr th {\n",
       "        vertical-align: top;\n",
       "    }\n",
       "\n",
       "    .dataframe thead th {\n",
       "        text-align: right;\n",
       "    }\n",
       "</style>\n",
       "<table border=\"1\" class=\"dataframe\">\n",
       "  <thead>\n",
       "    <tr style=\"text-align: right;\">\n",
       "      <th></th>\n",
       "      <th>water</th>\n",
       "      <th>hydro</th>\n",
       "      <th>heat</th>\n",
       "    </tr>\n",
       "  </thead>\n",
       "  <tbody>\n",
       "    <tr>\n",
       "      <th>0</th>\n",
       "      <td>1</td>\n",
       "      <td>0</td>\n",
       "      <td>1</td>\n",
       "    </tr>\n",
       "    <tr>\n",
       "      <th>1</th>\n",
       "      <td>1</td>\n",
       "      <td>1</td>\n",
       "      <td>1</td>\n",
       "    </tr>\n",
       "    <tr>\n",
       "      <th>2</th>\n",
       "      <td>1</td>\n",
       "      <td>0</td>\n",
       "      <td>1</td>\n",
       "    </tr>\n",
       "    <tr>\n",
       "      <th>3</th>\n",
       "      <td>1</td>\n",
       "      <td>0</td>\n",
       "      <td>1</td>\n",
       "    </tr>\n",
       "    <tr>\n",
       "      <th>4</th>\n",
       "      <td>1</td>\n",
       "      <td>0</td>\n",
       "      <td>0</td>\n",
       "    </tr>\n",
       "    <tr>\n",
       "      <th>...</th>\n",
       "      <td>...</td>\n",
       "      <td>...</td>\n",
       "      <td>...</td>\n",
       "    </tr>\n",
       "    <tr>\n",
       "      <th>956</th>\n",
       "      <td>1</td>\n",
       "      <td>0</td>\n",
       "      <td>1</td>\n",
       "    </tr>\n",
       "    <tr>\n",
       "      <th>957</th>\n",
       "      <td>0</td>\n",
       "      <td>0</td>\n",
       "      <td>0</td>\n",
       "    </tr>\n",
       "    <tr>\n",
       "      <th>958</th>\n",
       "      <td>1</td>\n",
       "      <td>0</td>\n",
       "      <td>1</td>\n",
       "    </tr>\n",
       "    <tr>\n",
       "      <th>959</th>\n",
       "      <td>1</td>\n",
       "      <td>0</td>\n",
       "      <td>1</td>\n",
       "    </tr>\n",
       "    <tr>\n",
       "      <th>960</th>\n",
       "      <td>1</td>\n",
       "      <td>1</td>\n",
       "      <td>1</td>\n",
       "    </tr>\n",
       "  </tbody>\n",
       "</table>\n",
       "<p>961 rows × 3 columns</p>\n",
       "</div>"
      ],
      "text/plain": [
       "     water  hydro  heat\n",
       "0        1      0     1\n",
       "1        1      1     1\n",
       "2        1      0     1\n",
       "3        1      0     1\n",
       "4        1      0     0\n",
       "..     ...    ...   ...\n",
       "956      1      0     1\n",
       "957      0      0     0\n",
       "958      1      0     1\n",
       "959      1      0     1\n",
       "960      1      1     1\n",
       "\n",
       "[961 rows x 3 columns]"
      ]
     },
     "execution_count": 9,
     "metadata": {},
     "output_type": "execute_result"
    }
   ],
   "source": [
    "df[['water','hydro','heat']]"
   ]
  },
  {
   "cell_type": "code",
   "execution_count": 10,
   "metadata": {},
   "outputs": [],
   "source": [
    "community_names = [i.split(' - Toronto')[0] for i in df['Community'].unique()]"
   ]
  },
  {
   "cell_type": "code",
   "execution_count": 11,
   "metadata": {},
   "outputs": [
    {
     "data": {
      "text/plain": [
       "<AxesSubplot:ylabel='Address'>"
      ]
     },
     "execution_count": 11,
     "metadata": {},
     "output_type": "execute_result"
    },
    {
     "data": {
      "image/png": "[encoded data removed]",
      "text/plain": [
       "<Figure size 432x288 with 1 Axes>"
      ]
     },
     "metadata": {},
     "output_type": "display_data"
    }
   ],
   "source": [
    "df.groupby('Community')['Address'].count().plot(kind='pie', startangle = 90, )"
   ]
  },
  {
   "cell_type": "code",
   "execution_count": 12,
   "metadata": {},
   "outputs": [
    {
     "data": {
      "text/plain": [
       "<AxesSubplot:xlabel='House_type'>"
      ]
     },
     "execution_count": 12,
     "metadata": {},
     "output_type": "execute_result"
    },
    {
     "data": {
      "image/png": "[encoded data removed]",
      "text/plain": [
       "<Figure size 432x288 with 1 Axes>"
      ]
     },
     "metadata": {
      "needs_background": "light"
     },
     "output_type": "display_data"
    }
   ],
   "source": [
    "df.groupby('House_type')['Address'].count().plot(kind='bar')"
   ]
  },
  {
   "cell_type": "code",
   "execution_count": 13,
   "metadata": {},
   "outputs": [
    {
     "name": "stderr",
     "output_type": "stream",
     "text": [
      "C:\\Users\\Hyeyeon\\anaconda3\\lib\\site-packages\\pandas\\core\\indexing.py:670: SettingWithCopyWarning: \n",
      "A value is trying to be set on a copy of a slice from a DataFrame\n",
      "\n",
      "See the caveats in the documentation: https://pandas.pydata.org/pandas-docs/stable/user_guide/indexing.html#returning-a-view-versus-a-copy\n",
      "  iloc._setitem_with_indexer(indexer, value)\n"
     ]
    }
   ],
   "source": [
    "index = np.where(df['House_type']=='Condo/Apt Unit')[0]\n",
    "df['House_type'].iloc[index] = 'Condo Apt'"
   ]
  },
  {
   "cell_type": "code",
   "execution_count": 14,
   "metadata": {},
   "outputs": [],
   "source": [
    "indices = np.where((df.House_type =='Freehold Townhouse') |(df.House_type =='Co-Op Apt') | (df.House_type =='Co-Ownership Apt') |(df.House_type =='Duplex') | (df.House_type =='Other'))\n",
    "df.drop(index = indices[0], inplace = True)"
   ]
  },
  {
   "cell_type": "code",
   "execution_count": 15,
   "metadata": {},
   "outputs": [
    {
     "data": {
      "text/plain": [
       "<AxesSubplot:xlabel='Bedroom'>"
      ]
     },
     "execution_count": 15,
     "metadata": {},
     "output_type": "execute_result"
    },
    {
     "data": {
      "image/png": "[encoded data removed]",
      "text/plain": [
       "<Figure size 432x288 with 1 Axes>"
      ]
     },
     "metadata": {
      "needs_background": "light"
     },
     "output_type": "display_data"
    }
   ],
   "source": [
    "df.groupby('Bedroom')['Address'].count().plot(kind='bar')"
   ]
  },
  {
   "cell_type": "code",
   "execution_count": 16,
   "metadata": {},
   "outputs": [
    {
     "data": {
      "text/plain": [
       "<AxesSubplot:xlabel='Exposure'>"
      ]
     },
     "execution_count": 16,
     "metadata": {},
     "output_type": "execute_result"
    },
    {
     "data": {
      "image/png": "[encoded data removed]",
      "text/plain": [
       "<Figure size 432x288 with 1 Axes>"
      ]
     },
     "metadata": {
      "needs_background": "light"
     },
     "output_type": "display_data"
    }
   ],
   "source": [
    "df.groupby('Exposure')['Address'].count().plot(kind='bar')"
   ]
  },
  {
   "cell_type": "code",
   "execution_count": 17,
   "metadata": {},
   "outputs": [],
   "source": [
    "index = np.where((df['Exposure']=='NS' )| (df['Exposure']=='EW'))[0]\n",
    "df['Exposure'].iloc[index] = np.NaN"
   ]
  },
  {
   "cell_type": "code",
   "execution_count": 18,
   "metadata": {},
   "outputs": [
    {
     "data": {
      "text/plain": [
       "494    NaN\n",
       "647    NaN\n",
       "750    NaN\n",
       "751    NaN\n",
       "903    NaN\n",
       "906    NaN\n",
       "Name: Exposure, dtype: object"
      ]
     },
     "execution_count": 18,
     "metadata": {},
     "output_type": "execute_result"
    }
   ],
   "source": [
    "df['Exposure'].iloc[index]"
   ]
  },
  {
   "cell_type": "code",
   "execution_count": 19,
   "metadata": {},
   "outputs": [
    {
     "data": {
      "text/plain": [
       "1"
      ]
     },
     "execution_count": 19,
     "metadata": {},
     "output_type": "execute_result"
    }
   ],
   "source": [
    "df['Municipality'].nunique()"
   ]
  },
  {
   "cell_type": "code",
   "execution_count": 20,
   "metadata": {},
   "outputs": [],
   "source": [
    "df.drop(columns=['Listing_num', 'Address', 'Estimated_on', 'Rental_dom', 'Rental_estimate',\\\n",
    "                 'Rental_yield', 'Property_type', 'Building_age', \\\n",
    "                 'Basement','Utility_incl', 'Listed_on', 'Updated_on', \\\n",
    "                 'Major_intersection', 'Amenities', 'Municipality'], inplace = True)"
   ]
  },
  {
   "cell_type": "code",
   "execution_count": 21,
   "metadata": {},
   "outputs": [
    {
     "name": "stdout",
     "output_type": "stream",
     "text": [
      "<class 'pandas.core.frame.DataFrame'>\n",
      "Int64Index: 958 entries, 0 to 960\n",
      "Data columns (total 16 columns):\n",
      " #   Column          Non-Null Count  Dtype  \n",
      "---  ------          --------------  -----  \n",
      " 0   Community       958 non-null    object \n",
      " 1   House_type      958 non-null    object \n",
      " 2   Listing_price   958 non-null    int64  \n",
      " 3   Sigma_estimate  958 non-null    int64  \n",
      " 4   Sold_price      957 non-null    float64\n",
      " 5   Bedroom         958 non-null    float64\n",
      " 6   Washroom        958 non-null    int64  \n",
      " 7   Parking         958 non-null    int64  \n",
      " 8   Tax             922 non-null    float64\n",
      " 9   Maintenance     932 non-null    float64\n",
      " 10  Size            956 non-null    float64\n",
      " 11  Days_on_market  958 non-null    int64  \n",
      " 12  Exposure        927 non-null    object \n",
      " 13  heat            958 non-null    int64  \n",
      " 14  water           958 non-null    int64  \n",
      " 15  hydro           958 non-null    int64  \n",
      "dtypes: float64(5), int64(8), object(3)\n",
      "memory usage: 127.2+ KB\n"
     ]
    }
   ],
   "source": [
    "df.info()"
   ]
  },
  {
   "cell_type": "markdown",
   "metadata": {},
   "source": [
    "### Fill NA \n",
    "Fill NA with an mean value of its bedroom size"
   ]
  },
  {
   "cell_type": "code",
   "execution_count": 22,
   "metadata": {},
   "outputs": [
    {
     "data": {
      "text/html": [
       "<div>\n",
       "<style scoped>\n",
       "    .dataframe tbody tr th:only-of-type {\n",
       "        vertical-align: middle;\n",
       "    }\n",
       "\n",
       "    .dataframe tbody tr th {\n",
       "        vertical-align: top;\n",
       "    }\n",
       "\n",
       "    .dataframe thead th {\n",
       "        text-align: right;\n",
       "    }\n",
       "</style>\n",
       "<table border=\"1\" class=\"dataframe\">\n",
       "  <thead>\n",
       "    <tr style=\"text-align: right;\">\n",
       "      <th></th>\n",
       "      <th>Size</th>\n",
       "    </tr>\n",
       "    <tr>\n",
       "      <th>Bedroom</th>\n",
       "      <th></th>\n",
       "    </tr>\n",
       "  </thead>\n",
       "  <tbody>\n",
       "    <tr>\n",
       "      <th>0.00</th>\n",
       "      <td>275.000000</td>\n",
       "    </tr>\n",
       "    <tr>\n",
       "      <th>1.00</th>\n",
       "      <td>482.227778</td>\n",
       "    </tr>\n",
       "    <tr>\n",
       "      <th>1.33</th>\n",
       "      <td>607.155340</td>\n",
       "    </tr>\n",
       "    <tr>\n",
       "      <th>1.66</th>\n",
       "      <td>820.000000</td>\n",
       "    </tr>\n",
       "    <tr>\n",
       "      <th>2.00</th>\n",
       "      <td>754.455285</td>\n",
       "    </tr>\n",
       "    <tr>\n",
       "      <th>2.33</th>\n",
       "      <td>832.142857</td>\n",
       "    </tr>\n",
       "    <tr>\n",
       "      <th>2.66</th>\n",
       "      <td>1100.000000</td>\n",
       "    </tr>\n",
       "    <tr>\n",
       "      <th>3.00</th>\n",
       "      <td>1080.777778</td>\n",
       "    </tr>\n",
       "    <tr>\n",
       "      <th>3.33</th>\n",
       "      <td>1300.000000</td>\n",
       "    </tr>\n",
       "    <tr>\n",
       "      <th>4.00</th>\n",
       "      <td>1200.000000</td>\n",
       "    </tr>\n",
       "    <tr>\n",
       "      <th>4.33</th>\n",
       "      <td>1300.000000</td>\n",
       "    </tr>\n",
       "  </tbody>\n",
       "</table>\n",
       "</div>"
      ],
      "text/plain": [
       "                Size\n",
       "Bedroom             \n",
       "0.00      275.000000\n",
       "1.00      482.227778\n",
       "1.33      607.155340\n",
       "1.66      820.000000\n",
       "2.00      754.455285\n",
       "2.33      832.142857\n",
       "2.66     1100.000000\n",
       "3.00     1080.777778\n",
       "3.33     1300.000000\n",
       "4.00     1200.000000\n",
       "4.33     1300.000000"
      ]
     },
     "execution_count": 22,
     "metadata": {},
     "output_type": "execute_result"
    }
   ],
   "source": [
    "df.groupby('Bedroom')[['Size']].mean()"
   ]
  },
  {
   "cell_type": "code",
   "execution_count": 23,
   "metadata": {},
   "outputs": [],
   "source": [
    "# Estimating Size by the number of bedroom\n",
    "df['Size'] = df['Size'].fillna(df.groupby('Bedroom')['Size'].transform('mean'))"
   ]
  },
  {
   "cell_type": "code",
   "execution_count": 24,
   "metadata": {},
   "outputs": [
    {
     "data": {
      "text/plain": [
       "Size\n",
       "0.00000        47\n",
       "448.00000       1\n",
       "500.00000     274\n",
       "510.00000       1\n",
       "512.00000       1\n",
       "533.00000       1\n",
       "545.00000       1\n",
       "570.00000       1\n",
       "580.00000       1\n",
       "600.00000     350\n",
       "607.15534       2\n",
       "609.00000       1\n",
       "621.00000       1\n",
       "625.00000       1\n",
       "646.00000       1\n",
       "650.00000       1\n",
       "670.00000       1\n",
       "677.00000       1\n",
       "700.00000     149\n",
       "755.00000       1\n",
       "782.00000       1\n",
       "800.00000      56\n",
       "815.00000       1\n",
       "900.00000      21\n",
       "950.00000       1\n",
       "1000.00000     24\n",
       "1004.00000      1\n",
       "1200.00000      8\n",
       "1300.00000      5\n",
       "1400.00000      3\n",
       "Name: Community, dtype: int64"
      ]
     },
     "execution_count": 24,
     "metadata": {},
     "output_type": "execute_result"
    }
   ],
   "source": [
    "df.groupby('Size')['Community'].count()"
   ]
  },
  {
   "cell_type": "code",
   "execution_count": 25,
   "metadata": {},
   "outputs": [],
   "source": [
    "bins = [0, 500, 600, 700, 800, 900, 1000, 1100, 1500]\n",
    "df['Size_cat'] = pd.cut(df['Size'], bins=bins, right = False, include_lowest = True)"
   ]
  },
  {
   "cell_type": "code",
   "execution_count": 26,
   "metadata": {},
   "outputs": [
    {
     "data": {
      "text/plain": [
       "Size_cat\n",
       "[0, 500)         48\n",
       "[500, 600)      280\n",
       "[600, 700)      359\n",
       "[700, 800)      151\n",
       "[800, 900)       57\n",
       "[900, 1000)      22\n",
       "[1000, 1100)     25\n",
       "[1100, 1500)     16\n",
       "Name: Community, dtype: int64"
      ]
     },
     "execution_count": 26,
     "metadata": {},
     "output_type": "execute_result"
    }
   ],
   "source": [
    "df.groupby('Size_cat')['Community'].count()"
   ]
  },
  {
   "cell_type": "code",
   "execution_count": 27,
   "metadata": {},
   "outputs": [
    {
     "data": {
      "text/plain": [
       "0"
      ]
     },
     "execution_count": 27,
     "metadata": {},
     "output_type": "execute_result"
    }
   ],
   "source": [
    "sum(df['Size_cat'].isna())"
   ]
  },
  {
   "cell_type": "markdown",
   "metadata": {},
   "source": [
    "### Fill NA"
   ]
  },
  {
   "cell_type": "code",
   "execution_count": 28,
   "metadata": {},
   "outputs": [
    {
     "name": "stdout",
     "output_type": "stream",
     "text": [
      "<class 'pandas.core.frame.DataFrame'>\n",
      "Int64Index: 958 entries, 0 to 960\n",
      "Data columns (total 17 columns):\n",
      " #   Column          Non-Null Count  Dtype   \n",
      "---  ------          --------------  -----   \n",
      " 0   Community       958 non-null    object  \n",
      " 1   House_type      958 non-null    object  \n",
      " 2   Listing_price   958 non-null    int64   \n",
      " 3   Sigma_estimate  958 non-null    int64   \n",
      " 4   Sold_price      957 non-null    float64 \n",
      " 5   Bedroom         958 non-null    float64 \n",
      " 6   Washroom        958 non-null    int64   \n",
      " 7   Parking         958 non-null    int64   \n",
      " 8   Tax             922 non-null    float64 \n",
      " 9   Maintenance     932 non-null    float64 \n",
      " 10  Size            958 non-null    float64 \n",
      " 11  Days_on_market  958 non-null    int64   \n",
      " 12  Exposure        927 non-null    object  \n",
      " 13  heat            958 non-null    int64   \n",
      " 14  water           958 non-null    int64   \n",
      " 15  hydro           958 non-null    int64   \n",
      " 16  Size_cat        958 non-null    category\n",
      "dtypes: category(1), float64(5), int64(8), object(3)\n",
      "memory usage: 128.6+ KB\n"
     ]
    }
   ],
   "source": [
    "df.info()"
   ]
  },
  {
   "cell_type": "code",
   "execution_count": 29,
   "metadata": {},
   "outputs": [
    {
     "data": {
      "text/html": [
       "<div>\n",
       "<style scoped>\n",
       "    .dataframe tbody tr th:only-of-type {\n",
       "        vertical-align: middle;\n",
       "    }\n",
       "\n",
       "    .dataframe tbody tr th {\n",
       "        vertical-align: top;\n",
       "    }\n",
       "\n",
       "    .dataframe thead th {\n",
       "        text-align: right;\n",
       "    }\n",
       "</style>\n",
       "<table border=\"1\" class=\"dataframe\">\n",
       "  <thead>\n",
       "    <tr style=\"text-align: right;\">\n",
       "      <th></th>\n",
       "      <th>Tax</th>\n",
       "      <th>Maintenance</th>\n",
       "    </tr>\n",
       "    <tr>\n",
       "      <th>Size_cat</th>\n",
       "      <th></th>\n",
       "      <th></th>\n",
       "    </tr>\n",
       "  </thead>\n",
       "  <tbody>\n",
       "    <tr>\n",
       "      <th>[0, 500)</th>\n",
       "      <td>2080.288889</td>\n",
       "      <td>345.042553</td>\n",
       "    </tr>\n",
       "    <tr>\n",
       "      <th>[500, 600)</th>\n",
       "      <td>2197.839695</td>\n",
       "      <td>411.625899</td>\n",
       "    </tr>\n",
       "    <tr>\n",
       "      <th>[600, 700)</th>\n",
       "      <td>2322.500000</td>\n",
       "      <td>484.427762</td>\n",
       "    </tr>\n",
       "    <tr>\n",
       "      <th>[700, 800)</th>\n",
       "      <td>2424.046980</td>\n",
       "      <td>577.554054</td>\n",
       "    </tr>\n",
       "    <tr>\n",
       "      <th>[800, 900)</th>\n",
       "      <td>2513.781818</td>\n",
       "      <td>632.596491</td>\n",
       "    </tr>\n",
       "    <tr>\n",
       "      <th>[900, 1000)</th>\n",
       "      <td>2545.000000</td>\n",
       "      <td>760.214286</td>\n",
       "    </tr>\n",
       "    <tr>\n",
       "      <th>[1000, 1100)</th>\n",
       "      <td>2197.400000</td>\n",
       "      <td>797.083333</td>\n",
       "    </tr>\n",
       "    <tr>\n",
       "      <th>[1100, 1500)</th>\n",
       "      <td>2184.500000</td>\n",
       "      <td>694.272727</td>\n",
       "    </tr>\n",
       "  </tbody>\n",
       "</table>\n",
       "</div>"
      ],
      "text/plain": [
       "                      Tax  Maintenance\n",
       "Size_cat                              \n",
       "[0, 500)      2080.288889   345.042553\n",
       "[500, 600)    2197.839695   411.625899\n",
       "[600, 700)    2322.500000   484.427762\n",
       "[700, 800)    2424.046980   577.554054\n",
       "[800, 900)    2513.781818   632.596491\n",
       "[900, 1000)   2545.000000   760.214286\n",
       "[1000, 1100)  2197.400000   797.083333\n",
       "[1100, 1500)  2184.500000   694.272727"
      ]
     },
     "execution_count": 29,
     "metadata": {},
     "output_type": "execute_result"
    }
   ],
   "source": [
    "df.groupby('Size_cat')[['Tax', 'Maintenance']].mean()"
   ]
  },
  {
   "cell_type": "code",
   "execution_count": 30,
   "metadata": {},
   "outputs": [],
   "source": [
    "# Estimating Tax & Maintenance by the Size\n",
    "df['Tax'] = df['Tax'].fillna(df.groupby('Size_cat')['Tax'].transform('mean'))\n",
    "df['Maintenance'] = df['Maintenance'].fillna(df.groupby('Size_cat')['Maintenance'].transform('mean'))"
   ]
  },
  {
   "cell_type": "code",
   "execution_count": 31,
   "metadata": {},
   "outputs": [
    {
     "data": {
      "text/plain": [
       "31"
      ]
     },
     "execution_count": 31,
     "metadata": {},
     "output_type": "execute_result"
    }
   ],
   "source": [
    "sum(df['Exposure'].isna())"
   ]
  },
  {
   "cell_type": "code",
   "execution_count": 32,
   "metadata": {},
   "outputs": [
    {
     "data": {
      "text/plain": [
       "S     0.207120\n",
       "W     0.190939\n",
       "N     0.179072\n",
       "E     0.170442\n",
       "NW    0.074434\n",
       "SW    0.070119\n",
       "SE    0.062567\n",
       "NE    0.045307\n",
       "Name: Exposure, dtype: float64"
      ]
     },
     "execution_count": 32,
     "metadata": {},
     "output_type": "execute_result"
    }
   ],
   "source": [
    "df['Exposure'].value_counts()/df['Exposure'].count()"
   ]
  },
  {
   "cell_type": "code",
   "execution_count": 33,
   "metadata": {},
   "outputs": [
    {
     "data": {
      "text/plain": [
       "S     0.207120\n",
       "W     0.190939\n",
       "N     0.179072\n",
       "E     0.170442\n",
       "NW    0.074434\n",
       "SW    0.070119\n",
       "SE    0.062567\n",
       "NE    0.045307\n",
       "Name: Exposure, dtype: float64"
      ]
     },
     "execution_count": 33,
     "metadata": {},
     "output_type": "execute_result"
    }
   ],
   "source": [
    "exposure_freq = pd.Series(df['Exposure'].value_counts()/df['Exposure'].count())\n",
    "exposure_freq"
   ]
  },
  {
   "cell_type": "code",
   "execution_count": 34,
   "metadata": {},
   "outputs": [
    {
     "data": {
      "text/plain": [
       "Index(['S', 'W', 'N', 'E', 'NW', 'SW', 'SE', 'NE'], dtype='object')"
      ]
     },
     "execution_count": 34,
     "metadata": {},
     "output_type": "execute_result"
    }
   ],
   "source": [
    "exposure_freq.index"
   ]
  },
  {
   "cell_type": "code",
   "execution_count": 35,
   "metadata": {},
   "outputs": [],
   "source": [
    "import random"
   ]
  },
  {
   "cell_type": "code",
   "execution_count": 36,
   "metadata": {},
   "outputs": [],
   "source": [
    "random_choices = random.choices(exposure_freq.index, weights = exposure_freq, k = sum(df['Exposure'].isna()))"
   ]
  },
  {
   "cell_type": "code",
   "execution_count": 37,
   "metadata": {},
   "outputs": [
    {
     "data": {
      "text/plain": [
       "['S',\n",
       " 'N',\n",
       " 'SE',\n",
       " 'N',\n",
       " 'N',\n",
       " 'S',\n",
       " 'W',\n",
       " 'W',\n",
       " 'NE',\n",
       " 'W',\n",
       " 'N',\n",
       " 'W',\n",
       " 'W',\n",
       " 'NW',\n",
       " 'W',\n",
       " 'S',\n",
       " 'SW',\n",
       " 'W',\n",
       " 'S',\n",
       " 'N',\n",
       " 'N',\n",
       " 'E',\n",
       " 'W',\n",
       " 'W',\n",
       " 'SE',\n",
       " 'SW',\n",
       " 'N',\n",
       " 'E',\n",
       " 'S',\n",
       " 'NW',\n",
       " 'S']"
      ]
     },
     "execution_count": 37,
     "metadata": {},
     "output_type": "execute_result"
    }
   ],
   "source": [
    "random_choices"
   ]
  },
  {
   "cell_type": "code",
   "execution_count": 38,
   "metadata": {},
   "outputs": [
    {
     "data": {
      "text/plain": [
       "Int64Index([  9,  32,  78,  98, 150, 201, 299, 350, 410, 429, 435, 441, 493,\n",
       "            494, 516, 526, 536, 561, 566, 647, 654, 685, 688, 750, 751, 832,\n",
       "            878, 903, 906, 931, 933],\n",
       "           dtype='int64')"
      ]
     },
     "execution_count": 38,
     "metadata": {},
     "output_type": "execute_result"
    }
   ],
   "source": [
    "df[df['Exposure'].isnull()].index"
   ]
  },
  {
   "cell_type": "code",
   "execution_count": 39,
   "metadata": {},
   "outputs": [],
   "source": [
    "null_index = np.where(df['Exposure'].isnull())[0]"
   ]
  },
  {
   "cell_type": "code",
   "execution_count": 40,
   "metadata": {},
   "outputs": [
    {
     "name": "stderr",
     "output_type": "stream",
     "text": [
      "C:\\Users\\Hyeyeon\\anaconda3\\lib\\site-packages\\pandas\\core\\indexing.py:670: SettingWithCopyWarning: \n",
      "A value is trying to be set on a copy of a slice from a DataFrame\n",
      "\n",
      "See the caveats in the documentation: https://pandas.pydata.org/pandas-docs/stable/user_guide/indexing.html#returning-a-view-versus-a-copy\n",
      "  iloc._setitem_with_indexer(indexer, value)\n"
     ]
    }
   ],
   "source": [
    "for i in range(len(null_index)):\n",
    "    df['Exposure'].iloc[null_index[i]]=random_choices[i]"
   ]
  },
  {
   "cell_type": "code",
   "execution_count": 41,
   "metadata": {},
   "outputs": [
    {
     "data": {
      "text/plain": [
       "0"
      ]
     },
     "execution_count": 41,
     "metadata": {},
     "output_type": "execute_result"
    }
   ],
   "source": [
    "sum(df['Exposure'].isna())"
   ]
  },
  {
   "cell_type": "code",
   "execution_count": 42,
   "metadata": {},
   "outputs": [],
   "source": [
    "df.dropna(inplace = True) # drops the Sold-price na row"
   ]
  },
  {
   "cell_type": "code",
   "execution_count": 43,
   "metadata": {},
   "outputs": [
    {
     "name": "stdout",
     "output_type": "stream",
     "text": [
      "<class 'pandas.core.frame.DataFrame'>\n",
      "Int64Index: 957 entries, 0 to 960\n",
      "Data columns (total 17 columns):\n",
      " #   Column          Non-Null Count  Dtype   \n",
      "---  ------          --------------  -----   \n",
      " 0   Community       957 non-null    object  \n",
      " 1   House_type      957 non-null    object  \n",
      " 2   Listing_price   957 non-null    int64   \n",
      " 3   Sigma_estimate  957 non-null    int64   \n",
      " 4   Sold_price      957 non-null    float64 \n",
      " 5   Bedroom         957 non-null    float64 \n",
      " 6   Washroom        957 non-null    int64   \n",
      " 7   Parking         957 non-null    int64   \n",
      " 8   Tax             957 non-null    float64 \n",
      " 9   Maintenance     957 non-null    float64 \n",
      " 10  Size            957 non-null    float64 \n",
      " 11  Days_on_market  957 non-null    int64   \n",
      " 12  Exposure        957 non-null    object  \n",
      " 13  heat            957 non-null    int64   \n",
      " 14  water           957 non-null    int64   \n",
      " 15  hydro           957 non-null    int64   \n",
      " 16  Size_cat        957 non-null    category\n",
      "dtypes: category(1), float64(5), int64(8), object(3)\n",
      "memory usage: 128.5+ KB\n"
     ]
    }
   ],
   "source": [
    "df.info()"
   ]
  }
 ],
 "metadata": {
  "kernelspec": {
   "display_name": "Python 3",
   "language": "python",
   "name": "python3"
  },
  "language_info": {
   "codemirror_mode": {
    "name": "ipython",
    "version": 3
   },
   "file_extension": ".py",
   "mimetype": "text/x-python",
   "name": "python",
   "nbconvert_exporter": "python",
   "pygments_lexer": "ipython3",
   "version": "3.8.5"
  }
 },
 "nbformat": 4,
 "nbformat_minor": 4
}
